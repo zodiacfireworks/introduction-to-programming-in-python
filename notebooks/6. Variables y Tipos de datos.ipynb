{
 "cells": [
  {
   "cell_type": "markdown",
   "metadata": {},
   "source": [
    "# Varaibles"
   ]
  },
  {
   "cell_type": "markdown",
   "metadata": {},
   "source": [
    "### Algunos ejemplos"
   ]
  },
  {
   "cell_type": "code",
   "execution_count": 5,
   "metadata": {
    "collapsed": false
   },
   "outputs": [
    {
     "name": "stdout",
     "output_type": "stream",
     "text": [
      "Yo ser Tarzan\n"
     ]
    }
   ],
   "source": [
    "name = \"Tarzan\"\n",
    "greetings = \"Yo ser {0}\".format(name)\n",
    "\n",
    "print(greetings)"
   ]
  },
  {
   "cell_type": "code",
   "execution_count": 8,
   "metadata": {
    "collapsed": false
   },
   "outputs": [
    {
     "name": "stdout",
     "output_type": "stream",
     "text": [
      "27.423014050931656\n"
     ]
    }
   ],
   "source": [
    "def square(x):\n",
    "    return x*x\n",
    "\n",
    "a_real_number = 5.2366987741258951452\n",
    "a_real_number_square = square(a_real_number)\n",
    "\n",
    "print(a_real_number_square)"
   ]
  },
  {
   "cell_type": "code",
   "execution_count": 22,
   "metadata": {
    "collapsed": false
   },
   "outputs": [
    {
     "name": "stdout",
     "output_type": "stream",
     "text": [
      "False\n",
      "False\n",
      "False\n"
     ]
    }
   ],
   "source": [
    "variable_1 = \"some words\"\n",
    "Variable_1 = \"some other words\"\n",
    "VARIABLE_1 = \"some other words more\"\n",
    "\n",
    "print(variable_1 == Variable_1)\n",
    "print(variable_1 == VARIABLE_1)\n",
    "print(Variable_1 == VARIABLE_1)"
   ]
  },
  {
   "cell_type": "code",
   "execution_count": 24,
   "metadata": {
    "collapsed": false
   },
   "outputs": [
    {
     "ename": "SyntaxError",
     "evalue": "can't assign to keyword (<ipython-input-24-22789b1cc143>, line 1)",
     "output_type": "error",
     "traceback": [
      "\u001b[0;36m  File \u001b[0;32m\"<ipython-input-24-22789b1cc143>\"\u001b[0;36m, line \u001b[0;32m1\u001b[0m\n\u001b[0;31m    False = \"this can't be ssigned!\"\u001b[0m\n\u001b[0m                                    ^\u001b[0m\n\u001b[0;31mSyntaxError\u001b[0m\u001b[0;31m:\u001b[0m can't assign to keyword\n"
     ]
    }
   ],
   "source": [
    "False = \"this can't be ssigned!\""
   ]
  },
  {
   "cell_type": "markdown",
   "metadata": {},
   "source": [
    "### Guía para nombrar varaibles"
   ]
  },
  {
   "cell_type": "markdown",
   "metadata": {},
   "source": [
    "* Los nobres de las varaibles deben de empezar con una letra o un guión bajo:\n",
    "    - `_underscore`\n",
    "    - `underscore_`\n",
    "* El resto del nombre de la varaible puede ser letras, numeros o guiones bajos:\n",
    "    - `password1`\n",
    "    - `n00b`\n",
    "    - `un_der_scores`\n",
    "* Python distigue mayusculas de minúsculas cuando nombramos varaibles (Case Sensitive)\n",
    "    - `case_sensitive`, `CASE_SENSITIVE` y `Case_Sensitive` son disitntas variables"
   ]
  },
  {
   "cell_type": "markdown",
   "metadata": {},
   "source": [
    "### Palabras reservadas"
   ]
  },
  {
   "cell_type": "markdown",
   "metadata": {},
   "source": [
    "Estas palabras no pueden ser tomadas como nombres de variables"
   ]
  },
  {
   "cell_type": "markdown",
   "metadata": {},
   "source": [
    "<table style=\"font-weight:bold;color:#0000FF\">\n",
    "<tbody>\n",
    "<tr>\n",
    "<td style=\"padding:10px;\">False</td>\n",
    "<td style=\"padding:10px;\">class</td>\n",
    "<td style=\"padding:10px;\">finally</td>\n",
    "<td style=\"padding:10px;\">is</td>\n",
    "<td style=\"padding:10px;\">return</td>\n",
    "</tr>\n",
    "<tr>\n",
    "<td style=\"padding:10px;\">None</td>\n",
    "<td style=\"padding:10px;\">continue</td>\n",
    "<td style=\"padding:10px;\">for</td>\n",
    "<td style=\"padding:10px;\">lambda</td>\n",
    "<td style=\"padding:10px;\">try</td>\n",
    "</tr>\n",
    "<tr>\n",
    "<td style=\"padding:10px;\">True</td>\n",
    "<td style=\"padding:10px;\">def</td>\n",
    "<td style=\"padding:10px;\">from</td>\n",
    "<td style=\"padding:10px;\">nonlocal</td>\n",
    "<td style=\"padding:10px;\">while</td>\n",
    "</tr>\n",
    "<tr>\n",
    "<td style=\"padding:10px;\">and</td>\n",
    "<td style=\"padding:10px;\">del</td>\n",
    "<td style=\"padding:10px;\">global</td>\n",
    "<td style=\"padding:10px;\">not</td>\n",
    "<td style=\"padding:10px;\">with</td>\n",
    "</tr>\n",
    "<tr>\n",
    "<td style=\"padding:10px;\">as</td>\n",
    "<td style=\"padding:10px;\">elif</td>\n",
    "<td style=\"padding:10px;\">if</td>\n",
    "<td style=\"padding:10px;\">or</td>\n",
    "<td style=\"padding:10px;\">yield</td>\n",
    "</tr>\n",
    "<tr>\n",
    "<td style=\"padding:10px;\">assert</td>\n",
    "<td style=\"padding:10px;\">else</td>\n",
    "<td style=\"padding:10px;\">import</td>\n",
    "<td style=\"padding:10px;\">pass</td>\n",
    "<td style=\"padding:10px;\"></td>\n",
    "</tr>\n",
    "<tr>\n",
    "<td style=\"padding:10px;\">break</td>\n",
    "<td style=\"padding:10px;\">except</td>\n",
    "<td style=\"padding:10px;\">in</td>\n",
    "<td style=\"padding:10px;\">raise</td>\n",
    "<td style=\"padding:10px;\"></td>\n",
    "</tr>\n",
    "</tbody>\n",
    "</table>\n"
   ]
  },
  {
   "cell_type": "code",
   "execution_count": 59,
   "metadata": {
    "collapsed": false
   },
   "outputs": [
    {
     "name": "stdout",
     "output_type": "stream",
     "text": [
      "  1. False\n",
      "  2. None\n",
      "  3. True\n",
      "  4. and\n",
      "  5. as\n",
      "  6. assert\n",
      "  7. break\n",
      "  8. class\n",
      "  9. continue\n",
      " 10. def\n",
      " 11. del\n",
      " 12. elif\n",
      " 13. else\n",
      " 14. except\n",
      " 15. finally\n",
      " 16. for\n",
      " 17. from\n",
      " 18. global\n",
      " 19. if\n",
      " 20. import\n",
      " 21. in\n",
      " 22. is\n",
      " 23. lambda\n",
      " 24. nonlocal\n",
      " 25. not\n",
      " 26. or\n",
      " 27. pass\n",
      " 28. raise\n",
      " 29. return\n",
      " 30. try\n",
      " 31. while\n",
      " 32. with\n",
      " 33. yield\n"
     ]
    }
   ],
   "source": [
    "import keyword\n",
    "\n",
    "for i, kw in enumerate(keyword.kwlist):\n",
    "    print(\"{0:>3d}. {1:}\".format(i+1, kw))"
   ]
  },
  {
   "cell_type": "markdown",
   "metadata": {
    "collapsed": true
   },
   "source": [
    "# Tipos de datos"
   ]
  },
  {
   "cell_type": "markdown",
   "metadata": {
    "collapsed": true
   },
   "source": [
    "### La función `type`"
   ]
  },
  {
   "cell_type": "code",
   "execution_count": 30,
   "metadata": {
    "collapsed": false
   },
   "outputs": [
    {
     "name": "stdout",
     "output_type": "stream",
     "text": [
      "<class 'int'>\n",
      "<class 'float'>\n",
      "<class 'str'>\n"
     ]
    }
   ],
   "source": [
    "an_integer_number = 5\n",
    "a_float_number = 5.223698\n",
    "an_string = \"5336.21445\"\n",
    "\n",
    "print(type(an_integer_number))\n",
    "print(type(a_float_number))\n",
    "print(type(an_string))"
   ]
  },
  {
   "cell_type": "markdown",
   "metadata": {
    "collapsed": true
   },
   "source": [
    "## Tipos numéricos"
   ]
  },
  {
   "cell_type": "code",
   "execution_count": 35,
   "metadata": {
    "collapsed": false
   },
   "outputs": [
    {
     "name": "stdout",
     "output_type": "stream",
     "text": [
      "<class 'int'>\n",
      "<class 'float'>\n",
      "<class 'complex'>\n"
     ]
    }
   ],
   "source": [
    "an_integer_number = 5\n",
    "a_float_number = 5.223698\n",
    "a_complex_number = 25+2j\n",
    "\n",
    "print(type(an_integer_number))\n",
    "print(type(a_float_number))\n",
    "print(type(a_complex_number))"
   ]
  },
  {
   "cell_type": "code",
   "execution_count": 48,
   "metadata": {
    "collapsed": false
   },
   "outputs": [
    {
     "name": "stdout",
     "output_type": "stream",
     "text": [
      "<class 'int'>\n",
      "<class 'float'>\n",
      "<class 'complex'>\n",
      "<class 'complex'>\n"
     ]
    }
   ],
   "source": [
    "operation_integer_integer = an_integer_number + an_integer_number\n",
    "print(type(operation_integer_integer))\n",
    "\n",
    "operation_integer_float = an_integer_number + a_float_number\n",
    "print(type(operation_integer_float))\n",
    "\n",
    "operation_integer_complex = an_integer_number * a_complex_number\n",
    "print(type(operation_integer_complex))\n",
    "\n",
    "operation_float_complex = a_float_number * a_complex_number\n",
    "print(type(operation_float_complex))"
   ]
  },
  {
   "cell_type": "markdown",
   "metadata": {
    "collapsed": true
   },
   "source": [
    "## Cadenas de Texto"
   ]
  },
  {
   "cell_type": "code",
   "execution_count": 51,
   "metadata": {
    "collapsed": false
   },
   "outputs": [
    {
     "name": "stdout",
     "output_type": "stream",
     "text": [
      "<class 'str'>\n",
      "<class 'bytes'>\n"
     ]
    }
   ],
   "source": [
    "an_string = \"i'm an string\"\n",
    "a_bytes_string = b\"i'm an string too, but some diferences\"\n",
    "\n",
    "print(type(an_string))\n",
    "print(type(a_bytes_string))"
   ]
  },
  {
   "cell_type": "code",
   "execution_count": 63,
   "metadata": {
    "collapsed": false
   },
   "outputs": [
    {
     "name": "stdout",
     "output_type": "stream",
     "text": [
      "<class 'str'>\n"
     ]
    }
   ],
   "source": [
    "a_unicode_string_from_bytes_string = a_bytes_string.decode('utf-8')\n",
    "\n",
    "print(type(a_unicode_string_from_bytes_string))"
   ]
  },
  {
   "cell_type": "code",
   "execution_count": 61,
   "metadata": {
    "collapsed": false
   },
   "outputs": [
    {
     "name": "stdout",
     "output_type": "stream",
     "text": [
      "<class 'bytes'>\n"
     ]
    }
   ],
   "source": [
    "a_unicode_string = an_string \n",
    "\n",
    "a_bytes_string_from_unicode_string = a_unicode_string.encode('utf-8')\n",
    "\n",
    "print(type(a_bytes_string_from_unicode_string))"
   ]
  },
  {
   "cell_type": "markdown",
   "metadata": {
    "collapsed": true
   },
   "source": [
    "# Colecciones"
   ]
  },
  {
   "cell_type": "markdown",
   "metadata": {},
   "source": [
    "### Listas"
   ]
  },
  {
   "cell_type": "code",
   "execution_count": 66,
   "metadata": {
    "collapsed": false
   },
   "outputs": [
    {
     "name": "stdout",
     "output_type": "stream",
     "text": [
      "<class 'list'>\n"
     ]
    }
   ],
   "source": [
    "a_list = [1, 2, 3, 4, 5, 6, 7, 8, 9, 10]\n",
    "\n",
    "print(type(a_list))"
   ]
  },
  {
   "cell_type": "code",
   "execution_count": 94,
   "metadata": {
    "collapsed": false
   },
   "outputs": [
    {
     "name": "stdout",
     "output_type": "stream",
     "text": [
      "<class 'int'>\n",
      "<class 'int'>\n",
      "<class 'int'>\n",
      "<class 'int'>\n"
     ]
    }
   ],
   "source": [
    "a_list = [1, 2, 3, 3]\n",
    "\n",
    "\n",
    "for item in a_list:\n",
    "    print(type(item))"
   ]
  },
  {
   "cell_type": "code",
   "execution_count": 84,
   "metadata": {
    "collapsed": false
   },
   "outputs": [
    {
     "name": "stdout",
     "output_type": "stream",
     "text": [
      "<class 'int'>\n",
      "<class 'float'>\n",
      "<class 'complex'>\n",
      "<class 'str'>\n"
     ]
    }
   ],
   "source": [
    "a_list = [1, 2.0, 3+0j, \"4\"]\n",
    "\n",
    "\n",
    "for item in a_list:\n",
    "    print(type(item))"
   ]
  },
  {
   "cell_type": "code",
   "execution_count": 76,
   "metadata": {
    "collapsed": false
   },
   "outputs": [
    {
     "name": "stdout",
     "output_type": "stream",
     "text": [
      "[[1, 0, 0, 0], [0, 1, 0, 0], [0, 0, 1, 0], [0, 0, 0, 1]]\n",
      "[1, 0, 0, 0]\n",
      "[0, 1, 0, 0]\n",
      "[0, 0, 1, 0]\n",
      "[0, 0, 0, 1]\n",
      "<class 'list'>\n",
      "<class 'list'>\n",
      "<class 'list'>\n",
      "<class 'list'>\n"
     ]
    }
   ],
   "source": [
    "a_list_of_lists = [\n",
    "    [1, 0, 0, 0],\n",
    "    [0, 1, 0, 0],\n",
    "    [0, 0, 1, 0],\n",
    "    [0, 0, 0, 1],\n",
    "]\n",
    "\n",
    "\n",
    "print(a_list_of_lists)\n",
    "\n",
    "\n",
    "for list_item in a_list_of_lists:\n",
    "    print(list_item)\n",
    "\n",
    "    \n",
    "for item in a_list_of_lists:\n",
    "    print(type(item))"
   ]
  },
  {
   "cell_type": "markdown",
   "metadata": {},
   "source": [
    "### Tuplas"
   ]
  },
  {
   "cell_type": "code",
   "execution_count": 78,
   "metadata": {
    "collapsed": false
   },
   "outputs": [
    {
     "name": "stdout",
     "output_type": "stream",
     "text": [
      "<class 'tuple'>\n"
     ]
    }
   ],
   "source": [
    "a_tuple = (1, 2, 3)\n",
    "\n",
    "print(type(a_tuple))"
   ]
  },
  {
   "cell_type": "code",
   "execution_count": 93,
   "metadata": {
    "collapsed": false
   },
   "outputs": [
    {
     "name": "stdout",
     "output_type": "stream",
     "text": [
      "<class 'int'>\n",
      "<class 'int'>\n",
      "<class 'int'>\n",
      "<class 'int'>\n"
     ]
    }
   ],
   "source": [
    "a_tuple = (1, 2, 3, 3)\n",
    "\n",
    "for item in a_tuple:\n",
    "    print(type(item))"
   ]
  },
  {
   "cell_type": "code",
   "execution_count": 80,
   "metadata": {
    "collapsed": false
   },
   "outputs": [
    {
     "name": "stdout",
     "output_type": "stream",
     "text": [
      "<class 'int'>\n",
      "<class 'float'>\n",
      "<class 'complex'>\n",
      "<class 'str'>\n"
     ]
    }
   ],
   "source": [
    "a_tuple = (1, 2.0, 3+0j, \"4\")\n",
    "\n",
    "for item in a_tuple:\n",
    "    print(type(item))"
   ]
  },
  {
   "cell_type": "code",
   "execution_count": 99,
   "metadata": {
    "collapsed": false
   },
   "outputs": [
    {
     "name": "stdout",
     "output_type": "stream",
     "text": [
      "<class 'tuple'>\n",
      "<class 'tuple'>\n",
      "<class 'tuple'>\n",
      "<class 'tuple'>\n"
     ]
    }
   ],
   "source": [
    "a_tuple_of_tuples = (\n",
    "    (1,0,0,0),\n",
    "    (1,0,0,0),\n",
    "    (1,0,0,0),\n",
    "    (1,0,0,0)\n",
    ")\n",
    "\n",
    "for tuple_item in a_tuple_of_tuples:\n",
    "    print(type(tuple_item))"
   ]
  },
  {
   "cell_type": "markdown",
   "metadata": {},
   "source": [
    "### Conjuntos"
   ]
  },
  {
   "cell_type": "code",
   "execution_count": 100,
   "metadata": {
    "collapsed": false
   },
   "outputs": [
    {
     "name": "stdout",
     "output_type": "stream",
     "text": [
      "<class 'set'>\n"
     ]
    }
   ],
   "source": [
    "a_set = {1,2,3,4}\n",
    "\n",
    "print(type(a_set))"
   ]
  },
  {
   "cell_type": "code",
   "execution_count": 107,
   "metadata": {
    "collapsed": false
   },
   "outputs": [
    {
     "name": "stdout",
     "output_type": "stream",
     "text": [
      "<class 'int'>\n",
      "<class 'int'>\n",
      "<class 'int'>\n"
     ]
    }
   ],
   "source": [
    "a_set = {1, 2, 3, 3}\n",
    "\n",
    "for item in a_set:\n",
    "    print(type(item))"
   ]
  },
  {
   "cell_type": "code",
   "execution_count": 109,
   "metadata": {
    "collapsed": false
   },
   "outputs": [
    {
     "name": "stdout",
     "output_type": "stream",
     "text": [
      "<class 'complex'>\n",
      "<class 'int'>\n",
      "<class 'float'>\n",
      "<class 'str'>\n"
     ]
    }
   ],
   "source": [
    "a_set = {1, 2.0, 3+0j, \"4\"}\n",
    "\n",
    "for item in a_set:\n",
    "    print(type(item))"
   ]
  },
  {
   "cell_type": "code",
   "execution_count": 3,
   "metadata": {
    "collapsed": false
   },
   "outputs": [
    {
     "ename": "TypeError",
     "evalue": "unhashable type: 'list'",
     "output_type": "error",
     "traceback": [
      "\u001b[0;31m-----------------------------------------------------------\u001b[0m",
      "\u001b[0;31mTypeError\u001b[0m                 Traceback (most recent call last)",
      "\u001b[0;32m<ipython-input-3-fc9e342460c9>\u001b[0m in \u001b[0;36m<module>\u001b[0;34m()\u001b[0m\n\u001b[1;32m      1\u001b[0m a_set_of_sets = {\n\u001b[0;32m----> 2\u001b[0;31m     \u001b[0;34m[\u001b[0m\u001b[0;36m1\u001b[0m\u001b[0;34m,\u001b[0m\u001b[0;36m0\u001b[0m\u001b[0;34m,\u001b[0m\u001b[0;36m0\u001b[0m\u001b[0;34m,\u001b[0m\u001b[0;36m0\u001b[0m\u001b[0;34m]\u001b[0m\u001b[0;34m,\u001b[0m\u001b[0;34m\u001b[0m\u001b[0m\n\u001b[0m\u001b[1;32m      3\u001b[0m }\n\u001b[1;32m      4\u001b[0m \u001b[0;34m\u001b[0m\u001b[0m\n\u001b[1;32m      5\u001b[0m \u001b[0;32mfor\u001b[0m \u001b[0mitem\u001b[0m \u001b[0;32min\u001b[0m \u001b[0ma_set_of_sets\u001b[0m\u001b[0;34m:\u001b[0m\u001b[0;34m\u001b[0m\u001b[0m\n",
      "\u001b[0;31mTypeError\u001b[0m: unhashable type: 'list'"
     ]
    }
   ],
   "source": [
    "a_set_of_sets = {\n",
    "    [1,0,0,0],\n",
    "}\n",
    "\n",
    "for item in a_set_of_sets:\n",
    "    print(type(item))"
   ]
  },
  {
   "cell_type": "markdown",
   "metadata": {
    "collapsed": true
   },
   "source": [
    "$$\\int_{\\Omega}f(x)dx$$"
   ]
  },
  {
   "cell_type": "code",
   "execution_count": null,
   "metadata": {
    "collapsed": true
   },
   "outputs": [],
   "source": []
  }
 ],
 "metadata": {
  "anaconda-cloud": {},
  "kernelspec": {
   "display_name": "Python [conda env:anaconda]",
   "language": "python",
   "name": "conda-env-anaconda-py"
  },
  "language_info": {
   "codemirror_mode": {
    "name": "ipython",
    "version": 3
   },
   "file_extension": ".py",
   "mimetype": "text/x-python",
   "name": "python",
   "nbconvert_exporter": "python",
   "pygments_lexer": "ipython3",
   "version": "3.5.2"
  }
 },
 "nbformat": 4,
 "nbformat_minor": 2
}
